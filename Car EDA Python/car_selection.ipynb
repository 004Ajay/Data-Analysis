{
 "cells": [
  {
   "cell_type": "markdown",
   "metadata": {},
   "source": [
    "### My constraints:\n",
    "* Make the data w.r.t these\n",
    "    * Price: 10 Lakhs + 50 Thousand (On-Road Price)\n",
    "        * No need to calculate Ex-Showroom and On-Road Price (set criteria 8 >= 'price_lakhs' <= 10)\n",
    "    * Mileage >= 13 kmpl\n",
    "    * Fuel Type: Only Petrol or diesel, consider price.\n",
    "    * Transmission: Manual or Automatic(Only CVT), consider price."
   ]
  },
  {
   "cell_type": "markdown",
   "metadata": {},
   "source": [
    "## 1. Loading and Viewing data"
   ]
  },
  {
   "cell_type": "code",
   "execution_count": 1,
   "metadata": {},
   "outputs": [
    {
     "name": "stdout",
     "output_type": "stream",
     "text": [
      "Dimensionality of the DataFrame:\n",
      "Rows: 1663\n",
      "Columns: 57\n"
     ]
    },
    {
     "data": {
      "text/html": [
       "<div>\n",
       "<style scoped>\n",
       "    .dataframe tbody tr th:only-of-type {\n",
       "        vertical-align: middle;\n",
       "    }\n",
       "\n",
       "    .dataframe tbody tr th {\n",
       "        vertical-align: top;\n",
       "    }\n",
       "\n",
       "    .dataframe thead th {\n",
       "        text-align: right;\n",
       "    }\n",
       "</style>\n",
       "<table border=\"1\" class=\"dataframe\">\n",
       "  <thead>\n",
       "    <tr style=\"text-align: right;\">\n",
       "      <th></th>\n",
       "      <th>brand_parent</th>\n",
       "      <th>model_parent</th>\n",
       "      <th>variant_parent</th>\n",
       "      <th>variant_name</th>\n",
       "      <th>price</th>\n",
       "      <th>displacement</th>\n",
       "      <th>power</th>\n",
       "      <th>transmission</th>\n",
       "      <th>mileage</th>\n",
       "      <th>fuel</th>\n",
       "      <th>...</th>\n",
       "      <th>ev_motor</th>\n",
       "      <th>ev_charge</th>\n",
       "      <th>ev_drag_coeff</th>\n",
       "      <th>zero_to_hundred</th>\n",
       "      <th>speakers</th>\n",
       "      <th>auto_park</th>\n",
       "      <th>ev_charge_time_dc</th>\n",
       "      <th>ev_charge_time_ac</th>\n",
       "      <th>ev_brake_regen_levels</th>\n",
       "      <th>ev_norm</th>\n",
       "    </tr>\n",
       "  </thead>\n",
       "  <tbody>\n",
       "    <tr>\n",
       "      <th>0</th>\n",
       "      <td>Volvo</td>\n",
       "      <td>Volvo C40 Recharge</td>\n",
       "      <td>C40 Recharge E80</td>\n",
       "      <td>Volvo C40 Recharge E80</td>\n",
       "      <td>Rs.62.95 Lakh*Get On-Road Price*Ex-showroom Pr...</td>\n",
       "      <td>NaN</td>\n",
       "      <td>402.30 bhp</td>\n",
       "      <td>NaN</td>\n",
       "      <td>NaN</td>\n",
       "      <td>Electric</td>\n",
       "      <td>...</td>\n",
       "      <td>NaN</td>\n",
       "      <td>CCS-II</td>\n",
       "      <td>NaN</td>\n",
       "      <td>4.7Sec</td>\n",
       "      <td>NaN</td>\n",
       "      <td>NaN</td>\n",
       "      <td>27Min (150 kW)</td>\n",
       "      <td>8 Hours</td>\n",
       "      <td>NaN</td>\n",
       "      <td>ZEV</td>\n",
       "    </tr>\n",
       "    <tr>\n",
       "      <th>1</th>\n",
       "      <td>Volvo</td>\n",
       "      <td>Volvo XC40 Recharge</td>\n",
       "      <td>XC40 Recharge E80 ultimate</td>\n",
       "      <td>Volvo XC40 Recharge E80 ultimate</td>\n",
       "      <td>Rs.57.90 Lakh*Get On-Road Price*Ex-showroom Pr...</td>\n",
       "      <td>NaN</td>\n",
       "      <td>408 bhp</td>\n",
       "      <td>NaN</td>\n",
       "      <td>NaN</td>\n",
       "      <td>Electric</td>\n",
       "      <td>...</td>\n",
       "      <td>NaN</td>\n",
       "      <td>CCS-II</td>\n",
       "      <td>NaN</td>\n",
       "      <td>4.9</td>\n",
       "      <td>13.0</td>\n",
       "      <td>NaN</td>\n",
       "      <td>28 Min 150 kW</td>\n",
       "      <td>NaN</td>\n",
       "      <td>Regenerative Braking Levels</td>\n",
       "      <td>ZEV</td>\n",
       "    </tr>\n",
       "    <tr>\n",
       "      <th>2</th>\n",
       "      <td>Volvo</td>\n",
       "      <td>Volvo XC40 Recharge</td>\n",
       "      <td>XC40 Recharge E60 Plus</td>\n",
       "      <td>Volvo XC40 Recharge E60 Plus</td>\n",
       "      <td>Rs.54.95 Lakh*Get On-Road Price*Ex-showroom Pr...</td>\n",
       "      <td>NaN</td>\n",
       "      <td>237.99 bhp</td>\n",
       "      <td>NaN</td>\n",
       "      <td>NaN</td>\n",
       "      <td>Electric</td>\n",
       "      <td>...</td>\n",
       "      <td>NaN</td>\n",
       "      <td>CCS-II</td>\n",
       "      <td>NaN</td>\n",
       "      <td>4.9</td>\n",
       "      <td>8.0</td>\n",
       "      <td>NaN</td>\n",
       "      <td>28 Min 150 kW</td>\n",
       "      <td>NaN</td>\n",
       "      <td>Regenerative Braking Levels</td>\n",
       "      <td>ZEV</td>\n",
       "    </tr>\n",
       "    <tr>\n",
       "      <th>3</th>\n",
       "      <td>Volvo</td>\n",
       "      <td>Volvo XC60</td>\n",
       "      <td>XC60 B5 Ultimate</td>\n",
       "      <td>Volvo XC60 B5 Ultimate</td>\n",
       "      <td>Rs.68.90 Lakh*Get On-Road Price*Ex-showroom Pr...</td>\n",
       "      <td>1969 cc</td>\n",
       "      <td>250 bhp</td>\n",
       "      <td>Automatic</td>\n",
       "      <td>NaN</td>\n",
       "      <td>Petrol</td>\n",
       "      <td>...</td>\n",
       "      <td>NaN</td>\n",
       "      <td>NaN</td>\n",
       "      <td>NaN</td>\n",
       "      <td>NaN</td>\n",
       "      <td>15.0</td>\n",
       "      <td>NaN</td>\n",
       "      <td>NaN</td>\n",
       "      <td>NaN</td>\n",
       "      <td>NaN</td>\n",
       "      <td>BS VI 2.0</td>\n",
       "    </tr>\n",
       "    <tr>\n",
       "      <th>4</th>\n",
       "      <td>Volvo</td>\n",
       "      <td>Volvo S90</td>\n",
       "      <td>S90 B5 Ultimate</td>\n",
       "      <td>Volvo S90 B5 Ultimate</td>\n",
       "      <td>Rs.68.25 Lakh*Get On-Road Price*Ex-showroom Pr...</td>\n",
       "      <td>1969 cc</td>\n",
       "      <td>246.58 bhp</td>\n",
       "      <td>Automatic</td>\n",
       "      <td>NaN</td>\n",
       "      <td>Petrol</td>\n",
       "      <td>...</td>\n",
       "      <td>NaN</td>\n",
       "      <td>NaN</td>\n",
       "      <td>NaN</td>\n",
       "      <td>NaN</td>\n",
       "      <td>19.0</td>\n",
       "      <td>NaN</td>\n",
       "      <td>NaN</td>\n",
       "      <td>NaN</td>\n",
       "      <td>NaN</td>\n",
       "      <td>BS VI 2.0</td>\n",
       "    </tr>\n",
       "  </tbody>\n",
       "</table>\n",
       "<p>5 rows × 57 columns</p>\n",
       "</div>"
      ],
      "text/plain": [
       "  brand_parent         model_parent              variant_parent  \\\n",
       "0        Volvo   Volvo C40 Recharge            C40 Recharge E80   \n",
       "1        Volvo  Volvo XC40 Recharge  XC40 Recharge E80 ultimate   \n",
       "2        Volvo  Volvo XC40 Recharge      XC40 Recharge E60 Plus   \n",
       "3        Volvo           Volvo XC60            XC60 B5 Ultimate   \n",
       "4        Volvo            Volvo S90             S90 B5 Ultimate   \n",
       "\n",
       "                       variant_name  \\\n",
       "0            Volvo C40 Recharge E80   \n",
       "1  Volvo XC40 Recharge E80 ultimate   \n",
       "2      Volvo XC40 Recharge E60 Plus   \n",
       "3            Volvo XC60 B5 Ultimate   \n",
       "4             Volvo S90 B5 Ultimate   \n",
       "\n",
       "                                               price displacement       power  \\\n",
       "0  Rs.62.95 Lakh*Get On-Road Price*Ex-showroom Pr...          NaN  402.30 bhp   \n",
       "1  Rs.57.90 Lakh*Get On-Road Price*Ex-showroom Pr...          NaN     408 bhp   \n",
       "2  Rs.54.95 Lakh*Get On-Road Price*Ex-showroom Pr...          NaN  237.99 bhp   \n",
       "3  Rs.68.90 Lakh*Get On-Road Price*Ex-showroom Pr...      1969 cc     250 bhp   \n",
       "4  Rs.68.25 Lakh*Get On-Road Price*Ex-showroom Pr...      1969 cc  246.58 bhp   \n",
       "\n",
       "  transmission mileage      fuel  ... ev_motor  ev_charge  ev_drag_coeff  \\\n",
       "0          NaN     NaN  Electric  ...      NaN     CCS-II            NaN   \n",
       "1          NaN     NaN  Electric  ...      NaN     CCS-II            NaN   \n",
       "2          NaN     NaN  Electric  ...      NaN     CCS-II            NaN   \n",
       "3    Automatic     NaN    Petrol  ...      NaN        NaN            NaN   \n",
       "4    Automatic     NaN    Petrol  ...      NaN        NaN            NaN   \n",
       "\n",
       "  zero_to_hundred speakers auto_park ev_charge_time_dc ev_charge_time_ac  \\\n",
       "0          4.7Sec      NaN       NaN    27Min (150 kW)           8 Hours   \n",
       "1             4.9     13.0       NaN     28 Min 150 kW               NaN   \n",
       "2             4.9      8.0       NaN     28 Min 150 kW               NaN   \n",
       "3             NaN     15.0       NaN               NaN               NaN   \n",
       "4             NaN     19.0       NaN               NaN               NaN   \n",
       "\n",
       "         ev_brake_regen_levels    ev_norm  \n",
       "0                          NaN        ZEV  \n",
       "1  Regenerative Braking Levels        ZEV  \n",
       "2  Regenerative Braking Levels        ZEV  \n",
       "3                          NaN  BS VI 2.0  \n",
       "4                          NaN  BS VI 2.0  \n",
       "\n",
       "[5 rows x 57 columns]"
      ]
     },
     "execution_count": 1,
     "metadata": {},
     "output_type": "execute_result"
    }
   ],
   "source": [
    "import pandas as pd\n",
    "\n",
    "cars = pd.read_csv('india_cars_2024.csv', encoding='unicode_escape')\n",
    "\n",
    "print(f'Dimensionality of the DataFrame:\\nRows: {cars.shape[0]}\\nColumns: {cars.shape[1]}')\n",
    "\n",
    "cars.head()"
   ]
  },
  {
   "cell_type": "code",
   "execution_count": 2,
   "metadata": {},
   "outputs": [
    {
     "name": "stdout",
     "output_type": "stream",
     "text": [
      "Number of columns:  57\n"
     ]
    },
    {
     "data": {
      "text/plain": [
       "Index(['brand_parent', 'model_parent', 'variant_parent', 'variant_name',\n",
       "       'price', 'displacement', 'power', 'transmission', 'mileage', 'fuel',\n",
       "       'engine_typr', 'cylinders', 'valves_per_cyl', 'gearbox', 'drive',\n",
       "       'fuel_cap', 'emission_norm', 'suspension_front', 'suspension_rear',\n",
       "       'steer_type', 'steer_col', 'turn_radius', 'brake_front', 'breake_rear',\n",
       "       'length', 'width', 'height', 'boot_cap', 'seat_cap', 'ground_cl',\n",
       "       'wheelbase', 'kerb_weight', 'gross_weight', 'doors', 'park_sensors',\n",
       "       'upholstery', 'radio_antenna', 'tyre_size', 'tyre_type', 'wheel_size',\n",
       "       'airbags', 'screen_size', 'connectivity', 'image-src', 'ncap_rating',\n",
       "       'ev_range', 'ev_battery_cap', 'ev_motor', 'ev_charge', 'ev_drag_coeff',\n",
       "       'zero_to_hundred', 'speakers', 'auto_park', 'ev_charge_time_dc',\n",
       "       'ev_charge_time_ac', 'ev_brake_regen_levels', 'ev_norm'],\n",
       "      dtype='object')"
      ]
     },
     "execution_count": 2,
     "metadata": {},
     "output_type": "execute_result"
    }
   ],
   "source": [
    "print(\"Number of columns: \", len(cars.columns))\n",
    "cars.columns"
   ]
  },
  {
   "cell_type": "code",
   "execution_count": 3,
   "metadata": {},
   "outputs": [
    {
     "data": {
      "text/plain": [
       "connectivity     1663\n",
       "ev_motor         1663\n",
       "image-src        1643\n",
       "ev_drag_coeff    1634\n",
       "auto_park        1619\n",
       "dtype: int64"
      ]
     },
     "execution_count": 3,
     "metadata": {},
     "output_type": "execute_result"
    }
   ],
   "source": [
    "cars.isnull().sum().sort_values(ascending=False).head() # To find if there is any column with no entries"
   ]
  },
  {
   "cell_type": "markdown",
   "metadata": {},
   "source": [
    "## 2. Removing unwanted columns\n",
    "*removing columns would help make the data slim as well as faster to process(less dimensions)*\n",
    "\n",
    "### Reasons:\n",
    "\n",
    "* As we're not preferring EVs and CNGs, so dropping all columns related to EVs and CNGs.\n",
    "    \n",
    "    * Not preferring EVs, due to - (A significant hike in electricity charges, if we charge the vehicle at home w.r.t our commute requirements)\n",
    "\n",
    "    * Not preferring CNG, due to - (Less boot space, Low acceleration performance, Cold start issue, Lower HP, High maintenance cost, Low resale value)\n",
    "\n",
    "* Connectivity may be referring to infotainment system or App intergration, we could drop it straightaway as it is null for all rows."
   ]
  },
  {
   "cell_type": "code",
   "execution_count": 4,
   "metadata": {},
   "outputs": [
    {
     "data": {
      "text/plain": [
       "['ev_range',\n",
       " 'ev_battery_cap',\n",
       " 'ev_motor',\n",
       " 'ev_charge',\n",
       " 'ev_drag_coeff',\n",
       " 'ev_charge_time_dc',\n",
       " 'ev_charge_time_ac',\n",
       " 'ev_brake_regen_levels',\n",
       " 'ev_norm']"
      ]
     },
     "execution_count": 4,
     "metadata": {},
     "output_type": "execute_result"
    }
   ],
   "source": [
    "ev_cols = [column for column in cars if column.startswith('ev')]\n",
    "ev_cols"
   ]
  },
  {
   "cell_type": "code",
   "execution_count": 5,
   "metadata": {},
   "outputs": [
    {
     "data": {
      "text/plain": [
       "(1663, 48)"
      ]
     },
     "execution_count": 5,
     "metadata": {},
     "output_type": "execute_result"
    }
   ],
   "source": [
    "cars.drop(ev_cols, axis=1, inplace=True)\n",
    "cars.shape # shape after EV columns dropping, see count of columns"
   ]
  },
  {
   "cell_type": "code",
   "execution_count": 6,
   "metadata": {},
   "outputs": [
    {
     "data": {
      "text/plain": [
       "array(['Shark Fin', nan, 'shark fin',\n",
       "       '3-eye Bi-Beam LED headlamps with auto-leveling system And Headlamp Cleaner, LED turn signal lamps, LED DRL (Daytime Running Lamp)W/o Cut Switch, LED Front and Rear fog lamps, LED Rear Combination Lamp & Light Bar Lamp End to End, Cornering Lamp, LED High Mount Stop lamp (On Rear Spoiler), Panoramic roof (Slide UV & IR Cut), Roof Rail(Black), Outside rear view mirror (Auto,EC,Heater)(Visor Cover - Black Paint + IR Function), EMT (Extended Mobility Tire), Front Bumper & Grille / Rear Bumper(F-Sport), F-Sport front fender emblems, fender arch moldings, Windshield & Front Side glass - Green UV Acoustic, Front, Rear QTR Glass & Back Glass -Green UV, Rear Side Glass -Light Green UV, Antenna - Radio +Shark Fin',\n",
       "       '3-eye Bi-Beam LED headlamps with auto-leveling system And Headlamp Cleaner, LED turn signal lamps, LED DRL (Daytime Running Lamp) with Cut Switch, LED Front and Rear fog lamps, LED Rear Combination Lamp & Light Bar Lamp End to End , Cornering Lamp, LED High Mount Stop lamp (On Rear Spoiler), Panoramic roof (Slide UV & IR Cut), Roof Rail Silver (Silver), Outside rear view mirror (Auto,EC,Heater) (Visor cover -Body Color + IR Function), EMT (Extended Mobility Tire), Front Bumper & Grille / Rear Bumper ( Normal), Windshield & Front Side glass - Green UV Acoustic, Front, Rear QTR Glass & Back Glass -Green UV, Rear Side Glass -Light Green UV, Antenna - Radio +Shark Fin',\n",
       "       'Antenna - Radio +Shark Fin, 3-eye Bi-Beam LED headlamps with auto-leveling system And Headlamp Cleaner, LED turn signal lamps, LED DRL (Daytime Running Lamp) (W/o Cut Switch), LED Front and Rear fog lamps, LED Rear Combination Lamp & Light Bar Lamp End to End, Cornering Lamp, LED High Mount Stop lamp (On Rear Spoiler), Panoramic roof (Slide UV & IR Cut), Roof Rail (Silver), Outside rear view mirror (Auto,EC,Heater)(Visor cover- Body Color), EMT (Extended Mobility Tire), Front Bumper & Grille / Rear Bumper (Normal), Windshield & Front Side glass - Green UV Acoustic, Front, Rear QTR Glass & Back Glass -Green UV, Rear Side Glass -Light Green UV,',\n",
       "       'Dark Grey Metallic Finish Grille,Dark Grey Metallic Finish ORVMs,Body Colored Door handles,Chrome Tailgate handles,Centre Mounted Roof Antenna,B-pillar Black-out Film,Rear Bumper',\n",
       "       'Shark fin', 'rear Glasss mount antenna', 'shark Fin',\n",
       "       'Roof Antenna', 'Trail Ready Front Windshield', 'Micro Type',\n",
       "       'Rear Micro', 'Rod type',\n",
       "       'Hard Top,All-Black Bumpers,Bonnet Latches,Wheel Arch Cladding,Side Foot Steps (Moulded),Fender-mounted Radio Antenna,Tailgate mounted Spare Wheel,Illuminated Key Ring,Body Colour (Satin Matte Desert Fury Colour),ORVMs Inserts (Desert Fury Coloured),Vertical slats on the Front grille (Desert Fury Coloured),Mahindra Wordmark (Matte Black),Thar branding (Matte Black),4x4 badging (Matte black With red accents),Automatic badging (Matte black With red accents),Gear Knob accents (Dark Chrome)',\n",
       "       'Fender-mounted', 'Roof antenna', 'Micro', 'Pole (Micro)',\n",
       "       'SharkFin', 'Micro pole', 'Micro Roof', 'Pole Type', 'Sharkfin',\n",
       "       'Body Coloured Bumper, Chrome Finish on Rear Bumper, High Mounted LED Stop Lamp, Humanity Line with Chrome Finish, 3-Dimensional Headlamps, Premium Piano Black Finish ORVMs, Chrome Lined Door Handles, Fog Lamps with Chrome Ring Surrounds, Stylish Finish on B Pillar, Chrome Finish Tri-Arrow Motif Front Grille, Chrome Lined Lower Grille, Piano Black Shark Fin Antenna, Sparkling Chrome Finish Along Window Line, Striking Projector Headlamps',\n",
       "       'Shark Fin With GPS', 'Glass', 'Micropole'], dtype=object)"
      ]
     },
     "execution_count": 6,
     "metadata": {},
     "output_type": "execute_result"
    }
   ],
   "source": [
    "cars['radio_antenna'].unique()"
   ]
  },
  {
   "cell_type": "code",
   "execution_count": 7,
   "metadata": {},
   "outputs": [
    {
     "data": {
      "text/plain": [
       "Index(['brand_parent', 'model_parent', 'variant_parent', 'variant_name',\n",
       "       'price', 'displacement', 'power', 'transmission', 'mileage', 'fuel',\n",
       "       'engine_typr', 'cylinders', 'valves_per_cyl', 'gearbox', 'drive',\n",
       "       'fuel_cap', 'emission_norm', 'suspension_front', 'suspension_rear',\n",
       "       'steer_type', 'steer_col', 'turn_radius', 'brake_front', 'breake_rear',\n",
       "       'length', 'width', 'height', 'boot_cap', 'seat_cap', 'ground_cl',\n",
       "       'wheelbase', 'kerb_weight', 'gross_weight', 'doors', 'park_sensors',\n",
       "       'upholstery', 'radio_antenna', 'tyre_size', 'tyre_type', 'wheel_size',\n",
       "       'airbags', 'screen_size', 'connectivity', 'image-src', 'ncap_rating',\n",
       "       'zero_to_hundred', 'speakers', 'auto_park'],\n",
       "      dtype='object')"
      ]
     },
     "execution_count": 7,
     "metadata": {},
     "output_type": "execute_result"
    }
   ],
   "source": [
    "cars.columns"
   ]
  },
  {
   "cell_type": "markdown",
   "metadata": {},
   "source": [
    "Remove other unwated columns: ['brand_parent', 'model_parent', 'variant_parent', 'radio_antenna', 'gearbox', 'connectivity','image-src', 'engine_typr', 'cylinders', 'valves_per_cyl', 'ncap_rating', 'suspension_front', 'suspension_rear', 'brake_front', 'breake_rear', 'wheelbase', 'kerb_weight','upholstery', 'radio_antenna', 'speakers', 'tyre_size', 'tyre_type', 'wheel_size', 'zero_to_hundred', 'auto_park']\n",
    "\n",
    "* 'variant_name' is a combination of ('brand_parent', 'model_parent', 'variant_parent')\n",
    "\n",
    "* 'radio_antenna' is not important to us, and it contain spam info\n",
    "\n",
    "* All info given by other to-be-deleted-cols will be compared after we get the final names"
   ]
  },
  {
   "cell_type": "code",
   "execution_count": 8,
   "metadata": {},
   "outputs": [
    {
     "data": {
      "text/plain": [
       "(1663, 24)"
      ]
     },
     "execution_count": 8,
     "metadata": {},
     "output_type": "execute_result"
    }
   ],
   "source": [
    "other_unwanted_cols = ['brand_parent', 'model_parent', 'variant_parent', 'radio_antenna', 'gearbox', 'connectivity','image-src', 'engine_typr', 'cylinders', 'valves_per_cyl', 'ncap_rating', 'suspension_front', 'suspension_rear', 'brake_front', 'breake_rear', 'wheelbase', 'kerb_weight','upholstery', 'radio_antenna', 'speakers', 'tyre_size', 'tyre_type', 'wheel_size', 'zero_to_hundred', 'auto_park']\n",
    "\n",
    "cars.drop(other_unwanted_cols, axis=1, inplace=True)\n",
    "\n",
    "cars.shape"
   ]
  },
  {
   "cell_type": "markdown",
   "metadata": {},
   "source": [
    "For better analysis, we need to change columns with entries like *Value* *SI unit* to *Value* and change column name to *ColumnName_SI Unit*\n",
    "\n",
    "Eg: Column 'mileage' has entries '20.36 kmpl', change entry to 20.36 and column name to 'mileage_kmpl'"
   ]
  },
  {
   "cell_type": "code",
   "execution_count": 9,
   "metadata": {},
   "outputs": [
    {
     "data": {
      "text/plain": [
       "(1663, 24)"
      ]
     },
     "execution_count": 9,
     "metadata": {},
     "output_type": "execute_result"
    }
   ],
   "source": [
    "# Extract each values in given column convert it to int, if value is NA then fill 0\n",
    "\n",
    "cars['mileage_kmpl'] = cars['mileage'].str.extract(r'(\\d+)').fillna(0).astype(int) # Mileage column, show exact mileage else 0\n",
    "\n",
    "cars['gross_weight_kg'] = cars['gross_weight'].str.extract(r'(\\d+)').fillna(0).astype(int) # Gross Weight column\n",
    "\n",
    "cars['displacement_cc'] = cars['displacement'].str.extract(r'(\\d+)').fillna(0).astype(int) # Displacement column\n",
    "\n",
    "cars['fuel_cap_liters'] = cars['fuel_cap'].str.extract(r'(\\d+)').fillna(0).astype(int) # Fuel Capacity column\n",
    "\n",
    "cars['boot_cap_liters'] = cars['boot_cap'].str.extract(r'(\\d+)').fillna(0).astype(int) # Boot Capacity column\n",
    "\n",
    "\n",
    "columns_to_process = ['length', 'width', 'height', 'ground_cl']\n",
    "\n",
    "for column_name in columns_to_process:\n",
    "    cars[f'{column_name}_mm'] = cars[column_name].str.extract(r'(\\d+)').fillna(0).astype(int)\n",
    "\n",
    "\n",
    "to_drop_cols = ['mileage', 'gross_weight', 'displacement', 'fuel_cap', 'boot_cap', 'length', 'width', 'height', 'ground_cl']\n",
    "\n",
    "cars.drop(to_drop_cols, axis=1, inplace=True)\n",
    "\n",
    "cars.shape    "
   ]
  },
  {
   "cell_type": "markdown",
   "metadata": {},
   "source": [
    "## 3. Removing unwanted rows"
   ]
  },
  {
   "cell_type": "code",
   "execution_count": 10,
   "metadata": {},
   "outputs": [
    {
     "name": "stdout",
     "output_type": "stream",
     "text": [
      "Fuels before:  ['Electric' 'Petrol' 'Diesel' 'CNG']\n",
      "No of rows before:  1663\n",
      "Fuels after:  ['Petrol' 'Diesel']\n",
      "No of rows after:  1469\n"
     ]
    },
    {
     "data": {
      "text/plain": [
       "(1469, 24)"
      ]
     },
     "execution_count": 10,
     "metadata": {},
     "output_type": "execute_result"
    }
   ],
   "source": [
    "print(\"Fuels before: \", cars['fuel'].unique()) # Here we Electric, Petrol, Diesel & CNG\n",
    "\n",
    "print(\"No of rows before: \", cars.shape[0])\n",
    "\n",
    "cars = cars[~cars['fuel'].isin(['Electric', 'CNG'])] # Remove rows where 'fuel' is either 'Electric' or 'CNG', ~(tilde) will negate the statement after it\n",
    "\n",
    "print(\"Fuels after: \", cars['fuel'].unique()) # Now we have only cars with 'fuel' Petrol or Diesel\n",
    "\n",
    "print(\"No of rows after: \", cars.shape[0])\n",
    "\n",
    "cars.shape"
   ]
  },
  {
   "cell_type": "markdown",
   "metadata": {},
   "source": [
    "#### 3.1. Fixing the Price Column"
   ]
  },
  {
   "cell_type": "markdown",
   "metadata": {},
   "source": [
    "Chopping 'Rs.8.07 Lakh x Get On-Road Price x Ex-showroom Price' to 'Rs.8.07 Lakh' for all rows\n",
    "\n",
    "x is actually asterisk"
   ]
  },
  {
   "cell_type": "code",
   "execution_count": 11,
   "metadata": {},
   "outputs": [
    {
     "data": {
      "text/plain": [
       "3    Rs.68.90 Lakh\n",
       "4    Rs.68.25 Lakh\n",
       "5       Rs.1.01 Cr\n",
       "7       Rs.6.95 Cr\n",
       "9      Rs.10.48 Cr\n",
       "Name: price, dtype: object"
      ]
     },
     "execution_count": 11,
     "metadata": {},
     "output_type": "execute_result"
    }
   ],
   "source": [
    "cars['price'] = cars['price'].apply(lambda x: str(x).split('*')[0])\n",
    "cars['price'].head()\n"
   ]
  },
  {
   "cell_type": "markdown",
   "metadata": {},
   "source": [
    "Since we're not thinking of buying cars priced Crores(Cr), so they can be easily removed.\n",
    "\n",
    "Deleting the rows with price Crores"
   ]
  },
  {
   "cell_type": "code",
   "execution_count": 12,
   "metadata": {},
   "outputs": [
    {
     "name": "stdout",
     "output_type": "stream",
     "text": [
      "Total number of rows having 'cr' in price column:  211\n"
     ]
    },
    {
     "data": {
      "text/plain": [
       "(1258, 24)"
      ]
     },
     "execution_count": 12,
     "metadata": {},
     "output_type": "execute_result"
    }
   ],
   "source": [
    "crore_priced_cars = cars['price'].str.contains('cr', case=False, na=False)\n",
    "\n",
    "print(\"Total number of rows having 'cr' in price column: \", crore_priced_cars.sum())\n",
    "\n",
    "cars = cars[~crore_priced_cars] # Remove rows where the 'price' column contains the string 'cr'\n",
    "\n",
    "cars.shape"
   ]
  },
  {
   "cell_type": "code",
   "execution_count": 13,
   "metadata": {},
   "outputs": [
    {
     "name": "stdout",
     "output_type": "stream",
     "text": [
      "(1258, 24)\n"
     ]
    },
    {
     "data": {
      "text/html": [
       "<div>\n",
       "<style scoped>\n",
       "    .dataframe tbody tr th:only-of-type {\n",
       "        vertical-align: middle;\n",
       "    }\n",
       "\n",
       "    .dataframe tbody tr th {\n",
       "        vertical-align: top;\n",
       "    }\n",
       "\n",
       "    .dataframe thead th {\n",
       "        text-align: right;\n",
       "    }\n",
       "</style>\n",
       "<table border=\"1\" class=\"dataframe\">\n",
       "  <thead>\n",
       "    <tr style=\"text-align: right;\">\n",
       "      <th></th>\n",
       "      <th>variant_name</th>\n",
       "      <th>power</th>\n",
       "      <th>transmission</th>\n",
       "      <th>fuel</th>\n",
       "      <th>drive</th>\n",
       "      <th>emission_norm</th>\n",
       "      <th>steer_type</th>\n",
       "      <th>steer_col</th>\n",
       "      <th>turn_radius</th>\n",
       "      <th>seat_cap</th>\n",
       "      <th>...</th>\n",
       "      <th>mileage_kmpl</th>\n",
       "      <th>gross_weight_kg</th>\n",
       "      <th>displacement_cc</th>\n",
       "      <th>fuel_cap_liters</th>\n",
       "      <th>boot_cap_liters</th>\n",
       "      <th>length_mm</th>\n",
       "      <th>width_mm</th>\n",
       "      <th>height_mm</th>\n",
       "      <th>ground_cl_mm</th>\n",
       "      <th>price_lakhs</th>\n",
       "    </tr>\n",
       "  </thead>\n",
       "  <tbody>\n",
       "    <tr>\n",
       "      <th>3</th>\n",
       "      <td>Volvo XC60 B5 Ultimate</td>\n",
       "      <td>250 bhp</td>\n",
       "      <td>Automatic</td>\n",
       "      <td>Petrol</td>\n",
       "      <td>AWD</td>\n",
       "      <td>BS VI 2.0</td>\n",
       "      <td>Power</td>\n",
       "      <td>Tilt &amp; Adjustable</td>\n",
       "      <td>5.8 meters</td>\n",
       "      <td>5.0</td>\n",
       "      <td>...</td>\n",
       "      <td>0</td>\n",
       "      <td>0</td>\n",
       "      <td>1969</td>\n",
       "      <td>70</td>\n",
       "      <td>483</td>\n",
       "      <td>4708</td>\n",
       "      <td>1902</td>\n",
       "      <td>1653</td>\n",
       "      <td>230</td>\n",
       "      <td>68.90</td>\n",
       "    </tr>\n",
       "    <tr>\n",
       "      <th>4</th>\n",
       "      <td>Volvo S90 B5 Ultimate</td>\n",
       "      <td>246.58 bhp</td>\n",
       "      <td>Automatic</td>\n",
       "      <td>Petrol</td>\n",
       "      <td>FWD</td>\n",
       "      <td>BS VI 2.0</td>\n",
       "      <td>NaN</td>\n",
       "      <td>NaN</td>\n",
       "      <td>NaN</td>\n",
       "      <td>5.0</td>\n",
       "      <td>...</td>\n",
       "      <td>0</td>\n",
       "      <td>0</td>\n",
       "      <td>1969</td>\n",
       "      <td>60</td>\n",
       "      <td>461</td>\n",
       "      <td>4969</td>\n",
       "      <td>1879</td>\n",
       "      <td>1340</td>\n",
       "      <td>0</td>\n",
       "      <td>68.25</td>\n",
       "    </tr>\n",
       "    <tr>\n",
       "      <th>36</th>\n",
       "      <td>Porsche Macan Standard</td>\n",
       "      <td>261.49 bhp</td>\n",
       "      <td>Automatic</td>\n",
       "      <td>Petrol</td>\n",
       "      <td>AWD</td>\n",
       "      <td>BS VI 2.0</td>\n",
       "      <td>Power</td>\n",
       "      <td>Tilt &amp; Telescopic</td>\n",
       "      <td>12.0m</td>\n",
       "      <td>5.0</td>\n",
       "      <td>...</td>\n",
       "      <td>0</td>\n",
       "      <td>2510</td>\n",
       "      <td>1984</td>\n",
       "      <td>65</td>\n",
       "      <td>458</td>\n",
       "      <td>4726</td>\n",
       "      <td>2097</td>\n",
       "      <td>1621</td>\n",
       "      <td>202</td>\n",
       "      <td>88.06</td>\n",
       "    </tr>\n",
       "    <tr>\n",
       "      <th>51</th>\n",
       "      <td>Mini Cooper Countryman Shadow Edition</td>\n",
       "      <td>189.08 bhp</td>\n",
       "      <td>NaN</td>\n",
       "      <td>Petrol</td>\n",
       "      <td>FWD</td>\n",
       "      <td>BS VI 2.0</td>\n",
       "      <td>Power</td>\n",
       "      <td>Tilt Adjustable Steering</td>\n",
       "      <td>6.0 metres</td>\n",
       "      <td>5.0</td>\n",
       "      <td>...</td>\n",
       "      <td>14</td>\n",
       "      <td>2050</td>\n",
       "      <td>1998</td>\n",
       "      <td>51</td>\n",
       "      <td>450</td>\n",
       "      <td>4299</td>\n",
       "      <td>1822</td>\n",
       "      <td>1557</td>\n",
       "      <td>149</td>\n",
       "      <td>49.00</td>\n",
       "    </tr>\n",
       "    <tr>\n",
       "      <th>52</th>\n",
       "      <td>Mini Cooper Countryman S JCW Inspired</td>\n",
       "      <td>189.08 bhp</td>\n",
       "      <td>NaN</td>\n",
       "      <td>Petrol</td>\n",
       "      <td>FWD</td>\n",
       "      <td>BS VI 2.0</td>\n",
       "      <td>Power</td>\n",
       "      <td>Tilt Adjustable Steering</td>\n",
       "      <td>6.0 metres</td>\n",
       "      <td>5.0</td>\n",
       "      <td>...</td>\n",
       "      <td>14</td>\n",
       "      <td>2050</td>\n",
       "      <td>1998</td>\n",
       "      <td>51</td>\n",
       "      <td>450</td>\n",
       "      <td>4299</td>\n",
       "      <td>1822</td>\n",
       "      <td>1557</td>\n",
       "      <td>149</td>\n",
       "      <td>48.10</td>\n",
       "    </tr>\n",
       "  </tbody>\n",
       "</table>\n",
       "<p>5 rows × 24 columns</p>\n",
       "</div>"
      ],
      "text/plain": [
       "                             variant_name       power transmission    fuel  \\\n",
       "3                  Volvo XC60 B5 Ultimate     250 bhp    Automatic  Petrol   \n",
       "4                   Volvo S90 B5 Ultimate  246.58 bhp    Automatic  Petrol   \n",
       "36                 Porsche Macan Standard  261.49 bhp    Automatic  Petrol   \n",
       "51  Mini Cooper Countryman Shadow Edition  189.08 bhp          NaN  Petrol   \n",
       "52  Mini Cooper Countryman S JCW Inspired  189.08 bhp          NaN  Petrol   \n",
       "\n",
       "   drive emission_norm steer_type                 steer_col turn_radius  \\\n",
       "3    AWD     BS VI 2.0      Power         Tilt & Adjustable  5.8 meters   \n",
       "4    FWD     BS VI 2.0        NaN                       NaN         NaN   \n",
       "36   AWD     BS VI 2.0      Power         Tilt & Telescopic       12.0m   \n",
       "51   FWD     BS VI 2.0      Power  Tilt Adjustable Steering  6.0 metres   \n",
       "52   FWD     BS VI 2.0      Power  Tilt Adjustable Steering  6.0 metres   \n",
       "\n",
       "    seat_cap  ...  mileage_kmpl gross_weight_kg displacement_cc  \\\n",
       "3        5.0  ...             0               0            1969   \n",
       "4        5.0  ...             0               0            1969   \n",
       "36       5.0  ...             0            2510            1984   \n",
       "51       5.0  ...            14            2050            1998   \n",
       "52       5.0  ...            14            2050            1998   \n",
       "\n",
       "   fuel_cap_liters  boot_cap_liters  length_mm  width_mm  height_mm  \\\n",
       "3               70              483       4708      1902       1653   \n",
       "4               60              461       4969      1879       1340   \n",
       "36              65              458       4726      2097       1621   \n",
       "51              51              450       4299      1822       1557   \n",
       "52              51              450       4299      1822       1557   \n",
       "\n",
       "    ground_cl_mm  price_lakhs  \n",
       "3            230        68.90  \n",
       "4              0        68.25  \n",
       "36           202        88.06  \n",
       "51           149        49.00  \n",
       "52           149        48.10  \n",
       "\n",
       "[5 rows x 24 columns]"
      ]
     },
     "execution_count": 13,
     "metadata": {},
     "output_type": "execute_result"
    }
   ],
   "source": [
    "pattern = r\"rs.|(\\s\\w+)\" # using regex pattern to find multiple strings,\n",
    "                         # 'rs.' is a word with fullstop,\n",
    "                         # '\\s' finds any whitespace character and '\\w+' a complete word that follows\n",
    "\n",
    "# Changing 'Rs.62.95 Lakh' like values to 62.95 (float) \n",
    "lakh_priced_cars = cars['price'].str \\\n",
    "                               .lower() \\\n",
    "                               .replace(pattern, \"\", regex=True) \\\n",
    "                               .astype(float) \n",
    "\n",
    "cars['price_lakhs'] = lakh_priced_cars # Adding new column with name 'price_lakhs'\n",
    "\n",
    "cars.drop('price', axis=1, inplace=True) # Dropping the previos 'price' column\n",
    "\n",
    "print(cars.shape)\n",
    "\n",
    "cars.head()"
   ]
  },
  {
   "cell_type": "markdown",
   "metadata": {},
   "source": [
    "## 4. Comparison with our current car (Honda Amaze 2015)\n",
    "\n",
    "> The biggest car we can ride through the path to our home is '2024 Maruti Suzuki Brezza' with Dimensions 3,995 mm L x 1,790 mm W x 1,685 mm H\n",
    "\n",
    "> Amaze has engine displacement 1.2L\n",
    "\n",
    "> Price range should be in a range of 8-10 Lakhs\n",
    "\n",
    "> Have mileage greater than 12 kmpl "
   ]
  },
  {
   "cell_type": "code",
   "execution_count": 14,
   "metadata": {},
   "outputs": [
    {
     "data": {
      "text/plain": [
       "(112, 24)"
      ]
     },
     "execution_count": 14,
     "metadata": {},
     "output_type": "execute_result"
    }
   ],
   "source": [
    "# Conditions combined to filter out rows\n",
    "\n",
    "cars = cars[\n",
    "    (cars['price_lakhs'] >= 8.00)     &\n",
    "\n",
    "    (cars['price_lakhs'] <= 10.00)    & \n",
    "\n",
    "    (cars['mileage_kmpl'] >= 12)      &\n",
    "    \n",
    "    (cars['length_mm'] <= 3995)       &\n",
    "    \n",
    "    (cars['width_mm'] <= 1790)        &\n",
    "    \n",
    "    (cars['height_mm'] <= 1685)       &\n",
    "\n",
    "    (cars['boot_cap_liters'] >= 308)\n",
    "]\n",
    "\n",
    "cars.shape"
   ]
  },
  {
   "cell_type": "code",
   "execution_count": 15,
   "metadata": {},
   "outputs": [
    {
     "name": "stdout",
     "output_type": "stream",
     "text": [
      "Final Cars:  ['Citroen C3' 'Nissan Magnite' 'Renault Kiger' 'Honda Amaze' 'Hyundai i20'\n",
      " 'Hyundai Aura' 'Hyundai Exter' 'Hyundai Venue' 'Toyota Taisor'\n",
      " 'Tata Tigor' 'Tata Altroz' 'Tata Punch' 'Maruti Dzire' 'Maruti Baleno'\n",
      " 'Maruti FRONX' 'Maruti Brezza']\n"
     ]
    }
   ],
   "source": [
    "print(\"Final Cars: \", cars['variant_name'] \\\n",
    "                             .apply(lambda x: ' '.join(x.split()[:2])) \\\n",
    "                             .unique()\n",
    ")"
   ]
  },
  {
   "cell_type": "code",
   "execution_count": 16,
   "metadata": {},
   "outputs": [],
   "source": [
    "cars.to_csv(\"required_cars.csv\", index=False)"
   ]
  }
 ],
 "metadata": {
  "kernelspec": {
   "display_name": "Python 3",
   "language": "python",
   "name": "python3"
  },
  "language_info": {
   "codemirror_mode": {
    "name": "ipython",
    "version": 3
   },
   "file_extension": ".py",
   "mimetype": "text/x-python",
   "name": "python",
   "nbconvert_exporter": "python",
   "pygments_lexer": "ipython3",
   "version": "3.10.11"
  }
 },
 "nbformat": 4,
 "nbformat_minor": 2
}
